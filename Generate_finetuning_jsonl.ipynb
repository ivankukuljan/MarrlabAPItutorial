{
 "cells": [
  {
   "cell_type": "code",
   "execution_count": 2,
   "id": "67ecb5ba-1f2a-45f2-925f-4c977060b7f1",
   "metadata": {},
   "outputs": [],
   "source": [
    "import pandas as pd\n",
    "import json\n",
    "import os"
   ]
  },
  {
   "cell_type": "code",
   "execution_count": 20,
   "id": "4e52c7ba-b440-4188-963e-365609db107d",
   "metadata": {},
   "outputs": [],
   "source": [
    "project_root_folder = \"/home/ivan/Helmholtz/Conferences/APIworkshopHelmholtz2025/\"\n",
    "dataset_folder = os.path.join(project_root_folder, \"AcevedoDataSet\")\n",
    "testset_folder =  os.path.join(dataset_folder, \"test\")\n",
    "trainset_folder = os.path.join(dataset_folder, \"train\")\n",
    "valset_folder = os.path.join(dataset_folder, \"val\")"
   ]
  },
  {
   "cell_type": "code",
   "execution_count": 7,
   "id": "73f09f19-be28-4d3a-87b2-77c42da97c35",
   "metadata": {},
   "outputs": [],
   "source": [
    "def gpt_api_finetuning_entry(prompt_text, image_url, ground_truth_label):\n",
    "\n",
    "    prompt_text = json.dumps(prompt_text)\n",
    "\n",
    "    entry = '{\"messages\": [{\"role\": \"system\", \"content\": \"You are an assistant that identifies cell types.\"}, {\"role\": \"user\", \"content\": ' + prompt_text + '}, {\"role\": \"user\", \"content\": [{\"type\": \"image_url\", \"image_url\": {\"url\": \"' + image_url + '\"}}]}, {\"role\": \"assistant\", \"content\": \"' + ground_truth_label + '\"}]}'\n",
    "\n",
    "    # jsonl_entry = json.dumps(entry)\n",
    "\n",
    "    return entry\n"
   ]
  },
  {
   "cell_type": "code",
   "execution_count": 22,
   "id": "e7a0da42-3ebf-4a8f-ab3a-d47139db4a4c",
   "metadata": {},
   "outputs": [],
   "source": [
    "def generate_finetuning_jsonl(prompt_text, dataset_csv_path, subset_oline_location, fine_tuning_jsonl_path):\n",
    "\n",
    "    dataset_csv = pd.read_csv(dataset_csv_path, delimiter=',')\n",
    "\n",
    "    for _, row in dataset_csv.iterrows():\n",
    "        image_name = row['image_name']\n",
    "        image_url = subset_oline_location + image_name + '.jpg'\n",
    "        ground_truth_label = row['label']\n",
    "\n",
    "\n",
    "    with open(fine_tuning_jsonl_path, 'a') as f:\n",
    "        for _, row in dataset_csv.iterrows():\n",
    "            image_name = row['image_name']\n",
    "\n",
    "            image_url = subset_oline_location + image_name + '.jpg'\n",
    "\n",
    "            ground_truth_label = row['label']             \n",
    "            \n",
    "            jsonl_entry = gpt_api_finetuning_entry(prompt_text, image_url, ground_truth_label)\n",
    "            f.write(jsonl_entry + '\\n')\n",
    "\n",
    "    print(\"Succesfully saved the jsonl file to: \" + fine_tuning_jsonl_path)"
   ]
  },
  {
   "cell_type": "code",
   "execution_count": 23,
   "id": "919ed665-9a9d-40e3-a5b3-41ec3181548c",
   "metadata": {},
   "outputs": [
    {
     "name": "stdout",
     "output_type": "stream",
     "text": [
      "Succesfully saved the jsonl file to: /home/ivan/Helmholtz/Conferences/APIworkshopHelmholtz2025/AcevedoDataSet/train/finetuning_train.jsonl\n"
     ]
    }
   ],
   "source": [
    "dataset_csv_path = os.path.join(trainset_folder, \"Acevedo_train_labels.csv\")\n",
    "\n",
    "subset_oline_location = \"https://github.com/ivankukuljan/MarrlabAPItutorial/tree/main/AcevedoDataSet/train\"\n",
    "\n",
    "fine_tuning_jsonl_path = os.path.join(trainset_folder, \"finetuning_train.jsonl\")\n",
    "\n",
    "prompt_text = \"\"\"Consider the input image. Take a moment to think. Consider what features do the cells in the image have. Which of the white blood cell types listed below is shown? \n",
    "    Write just the cell type and nothing else. Choose one of the possible labels provided below (exactly as written here):\n",
    "    Band Neutrophil\n",
    "    Basophil\n",
    "    Eosinophil\n",
    "    Erythroblast\n",
    "    Lymphocyte\n",
    "    Metamyelocyte\n",
    "    Monocyte\n",
    "    Myelocyte\n",
    "    Platelet\n",
    "    Promyelocyte\n",
    "    Segmented Neutrophil\"\"\"\n",
    "\n",
    "generate_finetuning_jsonl(prompt_text, dataset_csv_path, subset_oline_location, fine_tuning_jsonl_path)"
   ]
  },
  {
   "cell_type": "code",
   "execution_count": 24,
   "id": "db7d71ac-4f79-44fe-b01e-829040803d41",
   "metadata": {},
   "outputs": [
    {
     "name": "stdout",
     "output_type": "stream",
     "text": [
      "Succesfully saved the jsonl file to: /home/ivan/Helmholtz/Conferences/APIworkshopHelmholtz2025/AcevedoDataSet/val/finetuning_val.jsonl\n"
     ]
    }
   ],
   "source": [
    "dataset_csv_path = os.path.join(valset_folder, \"Acevedo_val_labels.csv\")\n",
    "\n",
    "subset_oline_location = \"https://github.com/ivankukuljan/MarrlabAPItutorial/tree/main/AcevedoDataSet/val\"\n",
    "\n",
    "fine_tuning_jsonl_path = os.path.join(valset_folder, \"finetuning_val.jsonl\")\n",
    "\n",
    "prompt_text = \"\"\"Consider the input image. Take a moment to think. Consider what features do the cells in the image have. Which of the white blood cell types listed below is shown? \n",
    "    Write just the cell type and nothing else. Choose one of the possible labels provided below (exactly as written here):\n",
    "    Band Neutrophil\n",
    "    Basophil\n",
    "    Eosinophil\n",
    "    Erythroblast\n",
    "    Lymphocyte\n",
    "    Metamyelocyte\n",
    "    Monocyte\n",
    "    Myelocyte\n",
    "    Platelet\n",
    "    Promyelocyte\n",
    "    Segmented Neutrophil\"\"\"\n",
    "\n",
    "generate_finetuning_jsonl(prompt_text, dataset_csv_path, subset_oline_location, fine_tuning_jsonl_path)"
   ]
  },
  {
   "cell_type": "code",
   "execution_count": null,
   "id": "c7039cc7-8276-48c3-93ec-2044b32d5311",
   "metadata": {},
   "outputs": [],
   "source": []
  }
 ],
 "metadata": {
  "kernelspec": {
   "display_name": "Python 3 (ipykernel)",
   "language": "python",
   "name": "python3"
  },
  "language_info": {
   "codemirror_mode": {
    "name": "ipython",
    "version": 3
   },
   "file_extension": ".py",
   "mimetype": "text/x-python",
   "name": "python",
   "nbconvert_exporter": "python",
   "pygments_lexer": "ipython3",
   "version": "3.12.8"
  }
 },
 "nbformat": 4,
 "nbformat_minor": 5
}
