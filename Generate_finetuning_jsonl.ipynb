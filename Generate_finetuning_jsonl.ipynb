{
 "cells": [
  {
   "cell_type": "code",
   "execution_count": null,
   "id": "67ecb5ba-1f2a-45f2-925f-4c977060b7f1",
   "metadata": {},
   "outputs": [],
   "source": [
    "import pandas as pd\n",
    "import json"
   ]
  },
  {
   "cell_type": "code",
   "execution_count": null,
   "id": "73f09f19-be28-4d3a-87b2-77c42da97c35",
   "metadata": {},
   "outputs": [],
   "source": [
    "def gpt_api_finetuning_entry(prompt_text, image_url, ground_truth_label):\n",
    "\n",
    "    prompt_text = json.dumps(prompt_text)\n",
    "\n",
    "    entry = '{\"messages\": [{\"role\": \"system\", \"content\": \"You are an assistant that identifies cell types.\"}, {\"role\": \"user\", \"content\": ' + prompt_text + '}, {\"role\": \"user\", \"content\": [{\"type\": \"image_url\", \"image_url\": {\"url\": \"' + image_url + '\"}}]}, {\"role\": \"assistant\", \"content\": \"' + ground_truth_label + '\"}]}'\n",
    "\n",
    "    # jsonl_entry = json.dumps(entry)\n",
    "\n",
    "    return entry\n"
   ]
  },
  {
   "cell_type": "code",
   "execution_count": null,
   "id": "e7a0da42-3ebf-4a8f-ab3a-d47139db4a4c",
   "metadata": {},
   "outputs": [],
   "source": [
    "def generate_finetuning_jsonl(prompt_text, dataset_csv_path, subset_oline_location, fine_tuning_jsonl_path):\n",
    "\n",
    "    dataset_csv = pd.read_csv(dataset_csv_path)\n",
    "\n",
    "    for _, row in dataset_csv.iterrows():\n",
    "        image_name = row['image_name']\n",
    "        image_url = subset_oline_location + image_name + '.jpg'\n",
    "        ground_truth_label = row['label']\n",
    "\n",
    "\n",
    "    with open(fine_tuning_jsonl_path, 'a') as f:\n",
    "        for _, row in dataset_csv.iterrows():\n",
    "            image_name = row['image_name']\n",
    "\n",
    "            image_url = subset_oline_location + image_name + '.jpg'\n",
    "\n",
    "            ground_truth_label = row['label']             \n",
    "            \n",
    "            jsonl_entry = gpt_api_finetuning_entry(prompt_text, image_url, ground_truth_label)\n",
    "            f.write(jsonl_entry + '\\n')"
   ]
  },
  {
   "cell_type": "code",
   "execution_count": null,
   "id": "919ed665-9a9d-40e3-a5b3-41ec3181548c",
   "metadata": {},
   "outputs": [],
   "source": []
  }
 ],
 "metadata": {
  "kernelspec": {
   "display_name": "Python 3 (ipykernel)",
   "language": "python",
   "name": "python3"
  },
  "language_info": {
   "codemirror_mode": {
    "name": "ipython",
    "version": 3
   },
   "file_extension": ".py",
   "mimetype": "text/x-python",
   "name": "python",
   "nbconvert_exporter": "python",
   "pygments_lexer": "ipython3",
   "version": "3.12.8"
  }
 },
 "nbformat": 4,
 "nbformat_minor": 5
}
